{
 "cells": [
  {
   "cell_type": "markdown",
   "metadata": {},
   "source": [
    "# **Stock Price Prediction**"
   ]
  },
  {
   "cell_type": "code",
   "execution_count": 1,
   "metadata": {},
   "outputs": [],
   "source": [
    "import pandas as pd\n",
    "import numpy as np\n",
    "import matplotlib.pyplot as plt\n",
    "import seaborn as sn\n",
    "import nltk as nltk\n",
    "import yfinance as yf"
   ]
  },
  {
   "cell_type": "code",
   "execution_count": 48,
   "metadata": {},
   "outputs": [],
   "source": [
    "import sys\n",
    "sys.path.append('../')\n",
    "news = pd.read_csv('../docs/raw_analyst_ratings.csv')"
   ]
  },
  {
   "cell_type": "markdown",
   "metadata": {},
   "source": [
    "## Exploratory Data Analysis"
   ]
  },
  {
   "cell_type": "markdown",
   "metadata": {},
   "source": [
    ">> ## Descriptive Statistics"
   ]
  },
  {
   "cell_type": "code",
   "execution_count": 49,
   "metadata": {},
   "outputs": [
    {
     "data": {
      "text/html": [
       "<div>\n",
       "<style scoped>\n",
       "    .dataframe tbody tr th:only-of-type {\n",
       "        vertical-align: middle;\n",
       "    }\n",
       "\n",
       "    .dataframe tbody tr th {\n",
       "        vertical-align: top;\n",
       "    }\n",
       "\n",
       "    .dataframe thead th {\n",
       "        text-align: right;\n",
       "    }\n",
       "</style>\n",
       "<table border=\"1\" class=\"dataframe\">\n",
       "  <thead>\n",
       "    <tr style=\"text-align: right;\">\n",
       "      <th></th>\n",
       "      <th>git rm --cached docs/raw_analyst_ratings.csv</th>\n",
       "      <th>headline</th>\n",
       "      <th>url</th>\n",
       "      <th>publisher</th>\n",
       "      <th>date</th>\n",
       "      <th>stock</th>\n",
       "    </tr>\n",
       "  </thead>\n",
       "  <tbody>\n",
       "    <tr>\n",
       "      <th>0</th>\n",
       "      <td>0</td>\n",
       "      <td>Stocks That Hit 52-Week Highs On Friday</td>\n",
       "      <td>https://www.benzinga.com/news/20/06/16190091/s...</td>\n",
       "      <td>Benzinga Insights</td>\n",
       "      <td>2020-06-05 10:30:54-04:00</td>\n",
       "      <td>A</td>\n",
       "    </tr>\n",
       "    <tr>\n",
       "      <th>1</th>\n",
       "      <td>1</td>\n",
       "      <td>Stocks That Hit 52-Week Highs On Wednesday</td>\n",
       "      <td>https://www.benzinga.com/news/20/06/16170189/s...</td>\n",
       "      <td>Benzinga Insights</td>\n",
       "      <td>2020-06-03 10:45:20-04:00</td>\n",
       "      <td>A</td>\n",
       "    </tr>\n",
       "    <tr>\n",
       "      <th>2</th>\n",
       "      <td>2</td>\n",
       "      <td>71 Biggest Movers From Friday</td>\n",
       "      <td>https://www.benzinga.com/news/20/05/16103463/7...</td>\n",
       "      <td>Lisa Levin</td>\n",
       "      <td>2020-05-26 04:30:07-04:00</td>\n",
       "      <td>A</td>\n",
       "    </tr>\n",
       "    <tr>\n",
       "      <th>3</th>\n",
       "      <td>3</td>\n",
       "      <td>46 Stocks Moving In Friday's Mid-Day Session</td>\n",
       "      <td>https://www.benzinga.com/news/20/05/16095921/4...</td>\n",
       "      <td>Lisa Levin</td>\n",
       "      <td>2020-05-22 12:45:06-04:00</td>\n",
       "      <td>A</td>\n",
       "    </tr>\n",
       "    <tr>\n",
       "      <th>4</th>\n",
       "      <td>4</td>\n",
       "      <td>B of A Securities Maintains Neutral on Agilent...</td>\n",
       "      <td>https://www.benzinga.com/news/20/05/16095304/b...</td>\n",
       "      <td>Vick Meyer</td>\n",
       "      <td>2020-05-22 11:38:59-04:00</td>\n",
       "      <td>A</td>\n",
       "    </tr>\n",
       "  </tbody>\n",
       "</table>\n",
       "</div>"
      ],
      "text/plain": [
       "   git rm --cached docs/raw_analyst_ratings.csv  \\\n",
       "0                                             0   \n",
       "1                                             1   \n",
       "2                                             2   \n",
       "3                                             3   \n",
       "4                                             4   \n",
       "\n",
       "                                            headline  \\\n",
       "0            Stocks That Hit 52-Week Highs On Friday   \n",
       "1         Stocks That Hit 52-Week Highs On Wednesday   \n",
       "2                      71 Biggest Movers From Friday   \n",
       "3       46 Stocks Moving In Friday's Mid-Day Session   \n",
       "4  B of A Securities Maintains Neutral on Agilent...   \n",
       "\n",
       "                                                 url          publisher  \\\n",
       "0  https://www.benzinga.com/news/20/06/16190091/s...  Benzinga Insights   \n",
       "1  https://www.benzinga.com/news/20/06/16170189/s...  Benzinga Insights   \n",
       "2  https://www.benzinga.com/news/20/05/16103463/7...         Lisa Levin   \n",
       "3  https://www.benzinga.com/news/20/05/16095921/4...         Lisa Levin   \n",
       "4  https://www.benzinga.com/news/20/05/16095304/b...         Vick Meyer   \n",
       "\n",
       "                        date stock  \n",
       "0  2020-06-05 10:30:54-04:00     A  \n",
       "1  2020-06-03 10:45:20-04:00     A  \n",
       "2  2020-05-26 04:30:07-04:00     A  \n",
       "3  2020-05-22 12:45:06-04:00     A  \n",
       "4  2020-05-22 11:38:59-04:00     A  "
      ]
     },
     "execution_count": 49,
     "metadata": {},
     "output_type": "execute_result"
    }
   ],
   "source": [
    "news.head()"
   ]
  },
  {
   "cell_type": "markdown",
   "metadata": {},
   "source": [
    ">>> ### headline length and stats"
   ]
  },
  {
   "cell_type": "code",
   "execution_count": 50,
   "metadata": {},
   "outputs": [
    {
     "name": "stdout",
     "output_type": "stream",
     "text": [
      "Mean headline length: 73.12051490484095\n",
      "Median headline length: 64.0\n",
      "Mode headline length: [47]\n",
      "Minimum headline length: 3\n",
      "Maximum headline length: 512\n",
      "Standard Deviation of headline length: 40.73530993195065\n"
     ]
    }
   ],
   "source": [
    "# headline length\n",
    "news['headline_length'] = news['headline'].str.len()\n",
    "\n",
    "# other statistics\n",
    "mean_length = news['headline_length'].mean()\n",
    "median_length = news['headline_length'].median()\n",
    "mode_length = news['headline_length'].mode().tolist()\n",
    "min_length = news['headline_length'].min()\n",
    "max_length = news['headline_length'].max()\n",
    "std_dev = news['headline_length'].std()\n",
    "\n",
    "# Print the results\n",
    "print(\"Mean headline length:\", mean_length)\n",
    "print(\"Median headline length:\", median_length)\n",
    "print(\"Mode headline length:\", mode_length)\n",
    "print(\"Minimum headline length:\", min_length)\n",
    "print(\"Maximum headline length:\", max_length)\n",
    "print(\"Standard Deviation of headline length:\", std_dev)\n"
   ]
  },
  {
   "cell_type": "markdown",
   "metadata": {},
   "source": [
    ">>> ### Articles per publisher"
   ]
  },
  {
   "cell_type": "code",
   "execution_count": 51,
   "metadata": {},
   "outputs": [
    {
     "name": "stdout",
     "output_type": "stream",
     "text": [
      "publisher\n",
      "Paul Quintaro        228373\n",
      "Lisa Levin           186979\n",
      "Benzinga Newsdesk    150484\n",
      "Charles Gross         96732\n",
      "Monica Gerson         82380\n",
      "                      ...  \n",
      "MoneyGeek                 1\n",
      "muathe                    1\n",
      "Robert Morris             1\n",
      "LeftCoastHedgie           1\n",
      "Jeremie Capron            1\n",
      "Name: count, Length: 1034, dtype: int64\n"
     ]
    }
   ],
   "source": [
    "# Number of articles per publisher\n",
    "publisher_counts = news['publisher'].value_counts()\n",
    "publisher_counts_sorted = publisher_counts.sort_values(ascending=False)\n",
    "print(publisher_counts_sorted)"
   ]
  },
  {
   "cell_type": "code",
   "execution_count": 52,
   "metadata": {},
   "outputs": [
    {
     "name": "stdout",
     "output_type": "stream",
     "text": [
      "Number of missing dates: 0\n"
     ]
    }
   ],
   "source": [
    "# Count number of missing dates\n",
    "error_count= news['date'].isna().sum()\n",
    "print(f\"Number of missing dates: {error_count}\")"
   ]
  },
  {
   "cell_type": "markdown",
   "metadata": {},
   "source": [
    ">>> ### Publication dates analysis"
   ]
  },
  {
   "cell_type": "code",
   "execution_count": 53,
   "metadata": {},
   "outputs": [],
   "source": [
    "# Format date\n",
    "from scripts.dateFormat import formatDate\n",
    "news['date']=formatDate(news)\n",
    "\n",
    "news['year'] = news['date'].dt.year\n",
    "news['month'] = news['date'].dt.month_name()\n",
    "news['day'] = news['date'].dt.day\n",
    "news['day_of_week'] = news['date'].dt.day_name()\n",
    "\n",
    "\n",
    "month_order = [\n",
    "    'January', 'February', 'March', 'April', 'May', 'June', \n",
    "    'July', 'August', 'September', 'October', 'November', 'December'\n",
    "]\n",
    "\n",
    "news['month'] = pd.Categorical(news['month'], categories=month_order, ordered=True)\n"
   ]
  },
  {
   "cell_type": "code",
   "execution_count": 54,
   "metadata": {},
   "outputs": [
    {
     "data": {
      "text/html": [
       "<div>\n",
       "<style scoped>\n",
       "    .dataframe tbody tr th:only-of-type {\n",
       "        vertical-align: middle;\n",
       "    }\n",
       "\n",
       "    .dataframe tbody tr th {\n",
       "        vertical-align: top;\n",
       "    }\n",
       "\n",
       "    .dataframe thead th {\n",
       "        text-align: right;\n",
       "    }\n",
       "</style>\n",
       "<table border=\"1\" class=\"dataframe\">\n",
       "  <thead>\n",
       "    <tr style=\"text-align: right;\">\n",
       "      <th></th>\n",
       "      <th>git rm --cached docs/raw_analyst_ratings.csv</th>\n",
       "      <th>headline</th>\n",
       "      <th>url</th>\n",
       "      <th>publisher</th>\n",
       "      <th>date</th>\n",
       "      <th>stock</th>\n",
       "      <th>headline_length</th>\n",
       "      <th>year</th>\n",
       "      <th>month</th>\n",
       "      <th>day</th>\n",
       "      <th>day_of_week</th>\n",
       "    </tr>\n",
       "  </thead>\n",
       "  <tbody>\n",
       "    <tr>\n",
       "      <th>0</th>\n",
       "      <td>0</td>\n",
       "      <td>Stocks That Hit 52-Week Highs On Friday</td>\n",
       "      <td>https://www.benzinga.com/news/20/06/16190091/s...</td>\n",
       "      <td>Benzinga Insights</td>\n",
       "      <td>2020-06-05 10:30:54-04:00</td>\n",
       "      <td>A</td>\n",
       "      <td>39</td>\n",
       "      <td>2020</td>\n",
       "      <td>June</td>\n",
       "      <td>5</td>\n",
       "      <td>Friday</td>\n",
       "    </tr>\n",
       "    <tr>\n",
       "      <th>1</th>\n",
       "      <td>1</td>\n",
       "      <td>Stocks That Hit 52-Week Highs On Wednesday</td>\n",
       "      <td>https://www.benzinga.com/news/20/06/16170189/s...</td>\n",
       "      <td>Benzinga Insights</td>\n",
       "      <td>2020-06-03 10:45:20-04:00</td>\n",
       "      <td>A</td>\n",
       "      <td>42</td>\n",
       "      <td>2020</td>\n",
       "      <td>June</td>\n",
       "      <td>3</td>\n",
       "      <td>Wednesday</td>\n",
       "    </tr>\n",
       "    <tr>\n",
       "      <th>2</th>\n",
       "      <td>2</td>\n",
       "      <td>71 Biggest Movers From Friday</td>\n",
       "      <td>https://www.benzinga.com/news/20/05/16103463/7...</td>\n",
       "      <td>Lisa Levin</td>\n",
       "      <td>2020-05-26 04:30:07-04:00</td>\n",
       "      <td>A</td>\n",
       "      <td>29</td>\n",
       "      <td>2020</td>\n",
       "      <td>May</td>\n",
       "      <td>26</td>\n",
       "      <td>Tuesday</td>\n",
       "    </tr>\n",
       "    <tr>\n",
       "      <th>3</th>\n",
       "      <td>3</td>\n",
       "      <td>46 Stocks Moving In Friday's Mid-Day Session</td>\n",
       "      <td>https://www.benzinga.com/news/20/05/16095921/4...</td>\n",
       "      <td>Lisa Levin</td>\n",
       "      <td>2020-05-22 12:45:06-04:00</td>\n",
       "      <td>A</td>\n",
       "      <td>44</td>\n",
       "      <td>2020</td>\n",
       "      <td>May</td>\n",
       "      <td>22</td>\n",
       "      <td>Friday</td>\n",
       "    </tr>\n",
       "    <tr>\n",
       "      <th>4</th>\n",
       "      <td>4</td>\n",
       "      <td>B of A Securities Maintains Neutral on Agilent...</td>\n",
       "      <td>https://www.benzinga.com/news/20/05/16095304/b...</td>\n",
       "      <td>Vick Meyer</td>\n",
       "      <td>2020-05-22 11:38:59-04:00</td>\n",
       "      <td>A</td>\n",
       "      <td>87</td>\n",
       "      <td>2020</td>\n",
       "      <td>May</td>\n",
       "      <td>22</td>\n",
       "      <td>Friday</td>\n",
       "    </tr>\n",
       "  </tbody>\n",
       "</table>\n",
       "</div>"
      ],
      "text/plain": [
       "   git rm --cached docs/raw_analyst_ratings.csv  \\\n",
       "0                                             0   \n",
       "1                                             1   \n",
       "2                                             2   \n",
       "3                                             3   \n",
       "4                                             4   \n",
       "\n",
       "                                            headline  \\\n",
       "0            Stocks That Hit 52-Week Highs On Friday   \n",
       "1         Stocks That Hit 52-Week Highs On Wednesday   \n",
       "2                      71 Biggest Movers From Friday   \n",
       "3       46 Stocks Moving In Friday's Mid-Day Session   \n",
       "4  B of A Securities Maintains Neutral on Agilent...   \n",
       "\n",
       "                                                 url          publisher  \\\n",
       "0  https://www.benzinga.com/news/20/06/16190091/s...  Benzinga Insights   \n",
       "1  https://www.benzinga.com/news/20/06/16170189/s...  Benzinga Insights   \n",
       "2  https://www.benzinga.com/news/20/05/16103463/7...         Lisa Levin   \n",
       "3  https://www.benzinga.com/news/20/05/16095921/4...         Lisa Levin   \n",
       "4  https://www.benzinga.com/news/20/05/16095304/b...         Vick Meyer   \n",
       "\n",
       "                       date stock  headline_length  year month  day  \\\n",
       "0 2020-06-05 10:30:54-04:00     A               39  2020  June    5   \n",
       "1 2020-06-03 10:45:20-04:00     A               42  2020  June    3   \n",
       "2 2020-05-26 04:30:07-04:00     A               29  2020   May   26   \n",
       "3 2020-05-22 12:45:06-04:00     A               44  2020   May   22   \n",
       "4 2020-05-22 11:38:59-04:00     A               87  2020   May   22   \n",
       "\n",
       "  day_of_week  \n",
       "0      Friday  \n",
       "1   Wednesday  \n",
       "2     Tuesday  \n",
       "3      Friday  \n",
       "4      Friday  "
      ]
     },
     "execution_count": 54,
     "metadata": {},
     "output_type": "execute_result"
    }
   ],
   "source": [
    "news.head()"
   ]
  },
  {
   "cell_type": "code",
   "execution_count": 55,
   "metadata": {},
   "outputs": [
    {
     "name": "stderr",
     "output_type": "stream",
     "text": [
      "/tmp/ipykernel_7231/2834599596.py:3: FutureWarning: The default of observed=False is deprecated and will be changed to True in a future version of pandas. Pass observed=False to retain current behavior or observed=True to adopt the future default and silence this warning.\n",
      "  articles_by_month = news.groupby('month').size()\n"
     ]
    }
   ],
   "source": [
    "# Count articles by year, month, day, and day of the week\n",
    "articles_by_year = news.groupby('year').size()\n",
    "articles_by_month = news.groupby('month').size()\n",
    "articles_by_day = news.groupby('day').size()\n",
    "articles_by_day_of_week = news.groupby('day_of_week').size()"
   ]
  },
  {
   "cell_type": "code",
   "execution_count": 56,
   "metadata": {},
   "outputs": [
    {
     "data": {
      "image/png": "[encoded data removed]",
      "text/plain": [
       "<Figure size 1200x600 with 1 Axes>"
      ]
     },
     "metadata": {},
     "output_type": "display_data"
    }
   ],
   "source": [
    "# Visualize trends\n",
    "plt.figure(figsize=(12, 6))\n",
    "plt.plot(articles_by_year.index, articles_by_year.values)\n",
    "plt.xlabel('Year')\n",
    "plt.ylabel('Number of Articles')\n",
    "plt.title('Articles Published per Year')\n",
    "plt.show()"
   ]
  },
  {
   "cell_type": "code",
   "execution_count": 57,
   "metadata": {},
   "outputs": [
    {
     "data": {
      "image/png": "[encoded data removed]",
      "text/plain": [
       "<Figure size 1200x600 with 1 Axes>"
      ]
     },
     "metadata": {},
     "output_type": "display_data"
    }
   ],
   "source": [
    "# Visualize articles by month\n",
    "plt.figure(figsize=(12, 6))\n",
    "plt.plot(articles_by_month.index, articles_by_month.values)\n",
    "plt.xticks(articles_by_month.index)\n",
    "plt.xlabel('Month')\n",
    "plt.ylabel('Number of Articles')\n",
    "plt.title('Articles Published per Month')\n",
    "plt.xticks(rotation=45)\n",
    "plt.tight_layout()\n",
    "plt.show()"
   ]
  },
  {
   "cell_type": "code",
   "execution_count": 58,
   "metadata": {},
   "outputs": [
    {
     "data": {
      "image/png": "[encoded data removed]",
      "text/plain": [
       "<Figure size 1200x600 with 1 Axes>"
      ]
     },
     "metadata": {},
     "output_type": "display_data"
    }
   ],
   "source": [
    "# Visualize articles by day\n",
    "plt.figure(figsize=(12, 6))\n",
    "plt.plot(articles_by_day.index, articles_by_day.values)\n",
    "plt.xlabel('Day')\n",
    "plt.ylabel('Number of Articles')\n",
    "plt.title('Articles Published per Day')\n",
    "plt.xticks(rotation=45)\n",
    "plt.show()"
   ]
  },
  {
   "cell_type": "markdown",
   "metadata": {},
   "source": [
    ">> ## Text Analysis(Sentiment analysis & Topic Modeling)"
   ]
  },
  {
   "cell_type": "markdown",
   "metadata": {},
   "source": [
    ">>> ### Sentiment analysis on headlines"
   ]
  },
  {
   "cell_type": "code",
   "execution_count": null,
   "metadata": {},
   "outputs": [],
   "source": [
    "from scripts.getSentiment import get_sentiment\n",
    "from scripts.getSentiment import classify_sentiment_score\n",
    "\n",
    "news['sentiment_score'] = news['headline'].apply(get_sentiment)\n",
    "news['sentiment_score_class'] = news['sentiment_score'].apply(classify_sentiment_score)\n",
    "print(news[['headline', 'sentiment_score','sentiment_score_class']].head(40))"
   ]
  },
  {
   "cell_type": "code",
   "execution_count": null,
   "metadata": {},
   "outputs": [],
   "source": [
    "min_score = news['sentiment_score'].min()\n",
    "max_score = news['sentiment_score'].max()\n",
    "\n",
    "# Display the results\n",
    "print(f\"Lowest sentiment score: {min_score}\")\n",
    "print(f\"Highest sentiment score: {max_score}\")"
   ]
  },
  {
   "cell_type": "code",
   "execution_count": null,
   "metadata": {},
   "outputs": [],
   "source": [
    "news['sentiment_score_class'].value_counts()"
   ]
  },
  {
   "cell_type": "markdown",
   "metadata": {},
   "source": [
    ">>> ### Keyword and topic identification"
   ]
  },
  {
   "cell_type": "code",
   "execution_count": null,
   "metadata": {},
   "outputs": [],
   "source": [
    "import pandas as pd\n",
    "import spacy\n",
    "from gensim import corpora\n",
    "from gensim.models import LdaModel\n",
    "import pyLDAvis.gensim_models as gensimvis\n",
    "import pyLDAvis\n",
    "import sys\n",
    "sys.path.append('../')\n",
    "\n",
    "\n",
    "#I used sample data because using the original news data requires large computational power\n",
    "sample_data = {\n",
    "    'headline': [\n",
    "        'FDA approval expected for new cancer drug',\n",
    "        'Tech stocks soar after strong earnings report',\n",
    "        'New merger talks boost company stock prices',\n",
    "        'Economic forecasts predict growth slowdown',\n",
    "        'Oil prices drop as supply increases',\n",
    "        'Acquisition deal finalized between two companies',\n",
    "        'Retail sales spike during holiday season',\n",
    "        'Healthcare reform impacts insurance companies',\n",
    "        'Price target raised for leading tech company',\n",
    "        'Government announces new tax cuts'\n",
    "    ]\n",
    "}\n",
    "\n",
    "# Convert sample data into a DataFrame\n",
    "news_sample = pd.DataFrame(sample_data)\n",
    "\n",
    "\n",
    "#news_topic = news.head(3)\n",
    "\n",
    "\n",
    "nlp = spacy.load('en_core_web_sm')\n",
    "\n",
    "# Define specific keywords or phrases you're interested in\n",
    "keywords = {'FDA approval', 'price target', 'merger', 'acquisition', 'revenue', 'profit', 'market'}\n",
    "\n",
    "# Text Preprocessing using spaCy\n",
    "def preprocess_text(text, keywords):\n",
    "    doc = nlp(text.lower())\n",
    "    tokens = [token.text for token in doc if token.text in keywords]\n",
    "    return tokens\n",
    "\n",
    "news_sample['tokens'] = news_sample['headline'].apply(lambda x: preprocess_text(x, keywords))\n",
    "\n",
    "news_topic = news_sample[news_sample['tokens'].map(len) > 0]\n",
    "\n",
    "dictionary = corpora.Dictionary(news_sample['tokens'])\n",
    "corpus = [dictionary.doc2bow(text) for text in news_sample['tokens']]\n",
    "\n",
    "lda_model = LdaModel(\n",
    "    corpus,\n",
    "    num_topics=2,  \n",
    "    id2word=dictionary,\n",
    "    passes=5 \n",
    ")\n",
    "\n",
    "# Display the topics\n",
    "topics = lda_model.print_topics(num_words=4)\n",
    "for topic in topics:\n",
    "    print(topic)\n",
    "\n",
    "# Visualize the topics\n",
    "vis = gensimvis.prepare(lda_model, corpus, dictionary)\n",
    "\n",
    "pyLDAvis.display(vis)\n"
   ]
  },
  {
   "cell_type": "markdown",
   "metadata": {},
   "source": [
    ">> ## Time Series Analysis"
   ]
  },
  {
   "cell_type": "markdown",
   "metadata": {},
   "source": [
    ">>> ### Publication variability over time"
   ]
  },
  {
   "cell_type": "code",
   "execution_count": null,
   "metadata": {},
   "outputs": [],
   "source": [
    "# Visualize articles by day of the week\n",
    "plt.figure(figsize=(12, 6))\n",
    "plt.plot(articles_by_day_of_week.index, articles_by_day_of_week.values)\n",
    "plt.xlabel('Day of the Week')\n",
    "plt.ylabel('Number of Articles')\n",
    "plt.title('Articles Published per Day of the Week')\n",
    "plt.xticks(rotation=45)\n",
    "plt.show()"
   ]
  },
  {
   "cell_type": "code",
   "execution_count": 2,
   "metadata": {},
   "outputs": [
    {
     "ename": "NameError",
     "evalue": "name 'news' is not defined",
     "output_type": "error",
     "traceback": [
      "\u001b[0;31m---------------------------------------------------------------------------\u001b[0m",
      "\u001b[0;31mNameError\u001b[0m                                 Traceback (most recent call last)",
      "Cell \u001b[0;32mIn[2], line 3\u001b[0m\n\u001b[1;32m      1\u001b[0m \u001b[38;5;66;03m# Analysis of publishing times might reveal if there’s a \u001b[39;00m\n\u001b[1;32m      2\u001b[0m \u001b[38;5;66;03m# specific time when most news is released, which could be crucial for traders and automated trading systems.\u001b[39;00m\n\u001b[0;32m----> 3\u001b[0m news[\u001b[38;5;124m'\u001b[39m\u001b[38;5;124mdate\u001b[39m\u001b[38;5;124m'\u001b[39m] \u001b[38;5;241m=\u001b[39m pd\u001b[38;5;241m.\u001b[39mto_datetime(\u001b[43mnews\u001b[49m[\u001b[38;5;124m'\u001b[39m\u001b[38;5;124mdate\u001b[39m\u001b[38;5;124m'\u001b[39m])\n\u001b[1;32m      4\u001b[0m news[\u001b[38;5;124m'\u001b[39m\u001b[38;5;124mpublication_hour\u001b[39m\u001b[38;5;124m'\u001b[39m] \u001b[38;5;241m=\u001b[39m news[\u001b[38;5;124m'\u001b[39m\u001b[38;5;124mdate\u001b[39m\u001b[38;5;124m'\u001b[39m]\u001b[38;5;241m.\u001b[39mdt\u001b[38;5;241m.\u001b[39mhour\n\u001b[1;32m      5\u001b[0m articles_by_hour \u001b[38;5;241m=\u001b[39m news\u001b[38;5;241m.\u001b[39mgroupby(\u001b[38;5;124m'\u001b[39m\u001b[38;5;124mpublication_hour\u001b[39m\u001b[38;5;124m'\u001b[39m)\u001b[38;5;241m.\u001b[39msize()\n",
      "\u001b[0;31mNameError\u001b[0m: name 'news' is not defined"
     ]
    }
   ],
   "source": [
    "# Analysis of publishing times might reveal if there’s a \n",
    "# specific time when most news is released, which could be crucial for traders and automated trading systems.\n",
    "news['date'] = pd.to_datetime(news['date'])\n",
    "news['publication_hour'] = news['date'].dt.hour\n",
    "articles_by_hour = news.groupby('publication_hour').size()\n",
    "\n",
    "# Visualize the trend\n",
    "plt.figure(figsize=(12, 6))\n",
    "plt.bar(articles_by_hour.index, articles_by_hour.values)\n",
    "plt.xlabel('Hour')\n",
    "plt.ylabel('Number of Articles (logarithmic scale)')\n",
    "plt.title('Articles Published per Hour (Logarithmic Scale)')\n",
    "plt.yscale('log')  # Use logarithmic scale for y-axis\n",
    "plt.xticks(range(24))\n",
    "plt.show()"
   ]
  },
  {
   "cell_type": "markdown",
   "metadata": {},
   "source": [
    ">> ## Publisher Analysis"
   ]
  },
  {
   "cell_type": "markdown",
   "metadata": {},
   "source": [
    ">>> ### Dominant Publishers and their sentiment"
   ]
  },
  {
   "cell_type": "code",
   "execution_count": null,
   "metadata": {},
   "outputs": [],
   "source": [
    "publisher_counts = news['publisher'].value_counts()\n",
    "total_articles = news.shape[0]\n",
    "publisher_percentages = (publisher_counts / total_articles) * 100\n",
    "dominant_publishers = publisher_percentages[publisher_percentages > 10].index\n",
    "\n",
    "print(\"Dominant publishers:\")\n",
    "print(dominant_publishers,'\\n\\n')\n",
    "\n",
    "# Step 2: Filter data for dominant publishers\n",
    "dominant_news = news[news['publisher'].isin(dominant_publishers)]\n",
    "\n",
    "# Ensure 'sentiment_score' is the correct column name for sentiment values\n",
    "dominant_news['sentiment_category'] = dominant_news['sentiment_score'].apply(classify_sentiment_score)\n",
    "\n",
    "# Step 4: Count sentiments by publisher\n",
    "sentiment_counts = dominant_news.groupby(['publisher', 'sentiment_category']).size().unstack(fill_value=0)\n",
    "\n",
    "# Step 5: Print the results\n",
    "for publisher in dominant_publishers:\n",
    "    print(f\"{publisher}:\")\n",
    "    if publisher in sentiment_counts.index:\n",
    "        counts = sentiment_counts.loc[publisher]\n",
    "        print(f\"  - positive sentiment     {counts.get('Positive', 0)} times\")\n",
    "        print(f\"  - negative sentiment     {counts.get('Negative', 0)} times\")\n",
    "        print(f\"  - neutral sentiment      {counts.get('Neutral', 0)} times\")\n",
    "    else:\n",
    "        print(\"  No data available\")"
   ]
  },
  {
   "cell_type": "code",
   "execution_count": null,
   "metadata": {},
   "outputs": [],
   "source": [
    "publishers = sentiment_counts.index.to_numpy()\n",
    "sentiment_labels = sentiment_counts.columns.to_numpy()\n",
    "sentiment_data = sentiment_counts.values\n",
    "\n",
    "# Create subplots for each publisher\n",
    "fig, axes = plt.subplots(len(publishers), 1, figsize=(10, 6))\n",
    "\n",
    "# Iterate through publishers and create histograms\n",
    "for i, publisher in enumerate(publishers):\n",
    "    ax = axes[i]\n",
    "    ax.bar(sentiment_labels, sentiment_data[i], color=['green', 'red', 'blue'])\n",
    "    ax.set_title(f\"{publisher} Sentiment Distribution\")\n",
    "    ax.set_xlabel(\"Sentiment Category\")\n",
    "    ax.set_ylabel(\"Number of Articles\")\n",
    "    ax.set_xticks(sentiment_labels)\n",
    "\n",
    "# Adjust layout and display the plot\n",
    "plt.tight_layout()\n",
    "plt.show()"
   ]
  },
  {
   "cell_type": "markdown",
   "metadata": {},
   "source": [
    ">>> ### Domain Identification"
   ]
  },
  {
   "cell_type": "code",
   "execution_count": null,
   "metadata": {},
   "outputs": [],
   "source": [
    "import re\n",
    "\n",
    "# Extract email domains\n",
    "def extract_domain(email):\n",
    "    if '@' in email:\n",
    "        return email.split('@')[1]\n",
    "    else:\n",
    "        return None  # Or handle invalid email addresses as needed\n",
    "\n",
    "news['publisher_domain'] = news['publisher'].apply(extract_domain)\n",
    "\n",
    "# Count unique domains\n",
    "domain_counts = news['publisher_domain'].value_counts()\n",
    "\n",
    "# Calculate domain contribution\n",
    "total_articles = news.shape[0]\n",
    "domain_percentages = (domain_counts / total_articles) * 100\n",
    "\n",
    "# Identify dominant domains\n",
    "dominant_domains = domain_percentages[domain_percentages > 0]  # Adjust threshold as needed\n",
    "\n",
    "print(\"Dominant domains:\")\n",
    "print(domain_counts)"
   ]
  },
  {
   "cell_type": "code",
   "execution_count": null,
   "metadata": {},
   "outputs": [],
   "source": [
    "publisher_sentiment_counts = news.groupby('publisher')['sentiment_score'].value_counts()\n",
    "total_articles_by_publisher = news.groupby('publisher').size()\n",
    "publisher_sentiment_percentages = (publisher_sentiment_counts / total_articles_by_publisher).mul(100)\n",
    "print(publisher_sentiment_percentages)\n"
   ]
  },
  {
   "cell_type": "markdown",
   "metadata": {},
   "source": [
    "# Quantitative analysis using TaLib"
   ]
  },
  {
   "cell_type": "markdown",
   "metadata": {},
   "source": [
    ">> ## Load and prepare stock data"
   ]
  },
  {
   "cell_type": "code",
   "execution_count": null,
   "metadata": {},
   "outputs": [],
   "source": [
    "stocks = ['AAPL', 'AMZN', 'GOOG', 'META', 'MSFT', 'NVDA', 'TSLA']\n",
    "stock_data = {}\n",
    "for stock in stocks:\n",
    "    file_name = f'../docs/yfinance_data/{stock}_historical_data.csv'\n",
    "    stock_data[stock] = pd.read_csv(file_name)\n",
    "print(\"\\n\\t\\tAAPL\\n\",stock_data['AAPL'].head())\n",
    "print(\"\\n\\n\\t\\tAMZN\\n\",stock_data['AMZN'].head())"
   ]
  },
  {
   "cell_type": "markdown",
   "metadata": {},
   "source": [
    ">> ## Apply Analysis Indicators with TA-Lib"
   ]
  },
  {
   "cell_type": "code",
   "execution_count": null,
   "metadata": {},
   "outputs": [],
   "source": [
    "import yfinance as yf\n",
    "import matplotlib.dates as mdates\n",
    "\n",
    "# Download Microsoft stock data\n",
    "msft = yf.Ticker(\"MSFT\")\n",
    "hist = msft.history(period=\"max\")\n",
    "\n",
    "# Create a figure and subplots\n",
    "fig, axes = plt.subplots(1, 4, figsize=(12, 4))\n",
    "\n",
    "# Plot Close price\n",
    "axes[0].plot(hist.index, hist['Close'], label='Close')\n",
    "axes[0].set_title('Close Price')\n",
    "axes[0].legend()\n",
    "\n",
    "# Plot Open price\n",
    "axes[1].plot(hist.index, hist['Open'], label='Open')\n",
    "axes[1].set_title('Open Price')\n",
    "axes[1].legend()\n",
    "\n",
    "# Plot High price\n",
    "axes[2].plot(hist.index, hist['High'], label='High')\n",
    "axes[2].set_title('High Price')\n",
    "axes[2].legend()\n",
    "\n",
    "# Plot Low price\n",
    "axes[3].plot(hist.index, hist['Low'], label='Low')\n",
    "axes[3].set_title('Low Price')\n",
    "axes[3].legend()\n",
    "\n",
    "for ax in axes:\n",
    "    ax.xaxis.set_major_locator(mdates.YearLocator(10))\n",
    "    ax.xaxis.set_major_formatter(mdates.DateFormatter('%Y'))\n",
    "\n",
    "\n",
    "# Rotate x-axis labels for readability\n",
    "plt.setp(axes[-1].xaxis.get_majorticklabels(), rotation=45, ha='right')\n",
    "\n",
    "# Adjust layout\n",
    "plt.tight_layout()\n",
    "\n",
    "# Display the plot\n",
    "plt.show()"
   ]
  },
  {
   "cell_type": "code",
   "execution_count": null,
   "metadata": {},
   "outputs": [],
   "source": [
    "import sys\n",
    "import traceback\n",
    "sys.path.append('..')\n",
    "from scripts.financeAnalyzer import *\n",
    "\n",
    "analyzer = {}\n",
    "try:\n",
    "    for stock in stocks:\n",
    "        analyzer[stock] = FinancialAnalyzer(stock, '2020-01-01', '2020-12-31')\n",
    "        analyzer[stock+'data'] = analyzer[stock].retrieve_stock_data()\n",
    "        analyzer[stock+'stock_data_indicators'] = analyzer[stock].calculate_technical_indicators(analyzer[stock+'data'])\n",
    "except Exception as e:\n",
    "    print(\"An error occurred:\")\n",
    "    print(traceback.format_exc())"
   ]
  },
  {
   "cell_type": "code",
   "execution_count": null,
   "metadata": {},
   "outputs": [],
   "source": [
    "from IPython.display import display\n",
    "stock_ = 'AMZN'\n",
    "for stock in stocks:\n",
    "    if stock+'stock_data_indicators' in analyzer:\n",
    "        display(stock+\" :\",analyzer[stock+'stock_data_indicators'].tail())\n",
    "    else:\n",
    "        print(f\"no data for {stock+'stock_data_indicators'}\")"
   ]
  },
  {
   "cell_type": "markdown",
   "metadata": {},
   "source": [
    ">> ## Visualize Indicators"
   ]
  },
  {
   "cell_type": "code",
   "execution_count": null,
   "metadata": {},
   "outputs": [],
   "source": [
    "fig, axes = plt.subplots(1, len(stocks), figsize=(15, 6))\n",
    "\n",
    "for ax, stock in zip(axes, stocks):\n",
    "    analyzer[stock].plot_stock_data(analyzer[f'{stock}data'], ax=ax)\n",
    "\n",
    "fig.suptitle('Stock Prices with Moving Averages', fontsize=16)\n",
    "\n",
    "plt.tight_layout(rect=[0, 0.03, 1, 0.95])\n",
    "\n",
    "# Display all plots together\n",
    "plt.show()"
   ]
  },
  {
   "cell_type": "code",
   "execution_count": null,
   "metadata": {},
   "outputs": [],
   "source": [
    "fig, axes = plt.subplots(1, len(stocks), figsize=(15, 6))\n",
    "\n",
    "for ax, stock in zip(axes, stocks):\n",
    "    analyzer[stock].plot_rsi(analyzer[f'{stock}data'], ax=ax)\n",
    "\n",
    "fig.suptitle('Stock Prices with Relative Strength Index (RSI)', fontsize=16)\n",
    "\n",
    "plt.tight_layout(rect=[0, 0.03, 1, 0.95])\n",
    "\n",
    "# Display all plots together\n",
    "plt.show()"
   ]
  },
  {
   "cell_type": "code",
   "execution_count": null,
   "metadata": {},
   "outputs": [],
   "source": [
    "fig, axes = plt.subplots(1, len(stocks), figsize=(15, 6))\n",
    "\n",
    "for ax, stock in zip(axes, stocks):\n",
    "    analyzer[stock].plot_ema(analyzer[f'{stock}data'], ax=ax)\n",
    "\n",
    "fig.suptitle('Stock Prices with EMA', fontsize=16)\n",
    "\n",
    "plt.tight_layout(rect=[0, 0.03, 1, 0.95])\n",
    "\n",
    "# Display all plots together\n",
    "plt.show()"
   ]
  },
  {
   "cell_type": "code",
   "execution_count": null,
   "metadata": {},
   "outputs": [],
   "source": [
    "fig, axes = plt.subplots(1, len(stocks), figsize=(15, 6))\n",
    "\n",
    "for ax, stock in zip(axes, stocks):\n",
    "    analyzer[stock].plot_macd(analyzer[f'{stock}data'], ax=ax)\n",
    "\n",
    "fig.suptitle('Stock Prices with MACD', fontsize=16)\n",
    "\n",
    "plt.tight_layout(rect=[0, 0.03, 1, 0.95])\n",
    "\n",
    "# Display all plots together\n",
    "plt.show()"
   ]
  },
  {
   "cell_type": "code",
   "execution_count": null,
   "metadata": {},
   "outputs": [],
   "source": []
  },
  {
   "cell_type": "code",
   "execution_count": null,
   "metadata": {},
   "outputs": [],
   "source": [
    "weights = analyzer[stock].calculate_portfolio_weights(['AAPL', 'GOOG', 'MSFT'], '2020-01-01', '2020-12-31')\n",
    "print(weights)"
   ]
  },
  {
   "cell_type": "code",
   "execution_count": null,
   "metadata": {},
   "outputs": [],
   "source": [
    "performance = analyzer[stock].calculate_portfolio_performance(['AAPL', 'GOOG', 'MSFT'], '2020-01-01', '2020-12-31')\n",
    "print(performance)"
   ]
  },
  {
   "cell_type": "code",
   "execution_count": null,
   "metadata": {},
   "outputs": [],
   "source": [
    "# Calculate portfolio performance\n",
    "\n",
    "portfolio_return, portfolio_volatility, sharpe_ratio = analyzer[stock].calculate_portfolio_performance(['AAPL', 'GOOG', 'MSFT'], '2020-01-01', '2020-12-31')\n",
    "print(f\"Portfolio Return: {portfolio_return:.2f}%\")\n",
    "print(f\"Portfolio Volatility: {portfolio_volatility:.2f}%\")\n",
    "print(f\"Sharpe Ratio: {sharpe_ratio:.2f}\")"
   ]
  },
  {
   "cell_type": "code",
   "execution_count": 19,
   "metadata": {},
   "outputs": [],
   "source": [
    "for stock in stocks:\n",
    "    stock_data[stock]['Date'] = formatDate(stock_data[stock],True)"
   ]
  },
  {
   "cell_type": "markdown",
   "metadata": {},
   "source": [
    "# Correlation between news and stock movement"
   ]
  },
  {
   "cell_type": "code",
   "execution_count": null,
   "metadata": {},
   "outputs": [],
   "source": [
    "print(stock_data['TSLA'].head())\n",
    "# print(news.head())"
   ]
  },
  {
   "cell_type": "markdown",
   "metadata": {},
   "source": [
    ">> ## Date Alignment"
   ]
  },
  {
   "cell_type": "code",
   "execution_count": 21,
   "metadata": {},
   "outputs": [],
   "source": [
    "#news['date'] = pd.to_datetime(news['date'],format='ISO8601')\n",
    "#stock_data['AAPL']['date'] = pd.to_datetime(stock_data['AAPL']['Date'],format='ISO8601')\n",
    "news['date'] = pd.to_datetime(news['date'],format='ISO8601').dt.tz_localize(None)\n",
    "stock_data['TSLA']['date'] = pd.to_datetime(stock_data['TSLA']['Date'],format='ISO8601').dt.tz_localize(None)\n"
   ]
  },
  {
   "cell_type": "code",
   "execution_count": null,
   "metadata": {},
   "outputs": [],
   "source": [
    "print(stock_data['AAPL'].columns)\n"
   ]
  },
  {
   "cell_type": "markdown",
   "metadata": {},
   "source": [
    ">>> ### Calculate daily return"
   ]
  },
  {
   "cell_type": "code",
   "execution_count": 23,
   "metadata": {},
   "outputs": [],
   "source": [
    "stock_data['AAPL']['daily_return'] = stock_data['AAPL']['Close'].pct_change()\n"
   ]
  },
  {
   "cell_type": "code",
   "execution_count": null,
   "metadata": {},
   "outputs": [],
   "source": [
    "aligned_data = stock_data['AAPL'][['daily_return']]\n",
    "stock_data['AAPL'].head()\n"
   ]
  },
  {
   "cell_type": "code",
   "execution_count": null,
   "metadata": {},
   "outputs": [],
   "source": [
    "aligned_data['Date'] = pd.to_datetime(stock_data['AAPL']['Date']).dt.tz_localize(None)\n",
    "daily_sentiment = news.groupby('date', as_index=False)['sentiment_score'].mean()\n",
    "stock_data['AAPL']['daily_return'] = stock_data['AAPL']['Adj Close'].pct_change()\n"
   ]
  },
  {
   "cell_type": "code",
   "execution_count": null,
   "metadata": {},
   "outputs": [],
   "source": [
    "stock_data['AAPL'].head()"
   ]
  },
  {
   "cell_type": "markdown",
   "metadata": {},
   "source": [
    ">>> ### Correlation Analysis"
   ]
  },
  {
   "cell_type": "code",
   "execution_count": 39,
   "metadata": {},
   "outputs": [],
   "source": [
    "daily_sentiment['date'] = pd.to_datetime(daily_sentiment['date'])\n",
    "stock_data['AAPL']['Date'] = pd.to_datetime(stock_data['AAPL']['Date'])\n"
   ]
  },
  {
   "cell_type": "code",
   "execution_count": 40,
   "metadata": {},
   "outputs": [],
   "source": [
    "final_df = pd.merge(daily_sentiment, stock_data['AAPL'][['Date', 'daily_return']], left_on='date', right_on='Date')\n"
   ]
  },
  {
   "cell_type": "code",
   "execution_count": 43,
   "metadata": {},
   "outputs": [],
   "source": [
    "final_df.dropna(inplace=True)\n"
   ]
  },
  {
   "cell_type": "code",
   "execution_count": 45,
   "metadata": {},
   "outputs": [],
   "source": [
    "\n",
    "correlation = final_df['sentiment_score'].corr(final_df['daily_return'])"
   ]
  },
  {
   "cell_type": "code",
   "execution_count": null,
   "metadata": {},
   "outputs": [],
   "source": [
    "import seaborn as sns\n",
    "correlation_matrix = final_df[['sentiment_score', 'daily_return']].corr()\n",
    "plt.figure(figsize=(8, 6))\n",
    "sns.heatmap(correlation_matrix, annot=True, cmap='coolwarm', fmt=\".2f\", cbar=True)\n",
    "plt.title('Correlation Heatmap between Sentiment and Stock Returns')\n",
    "plt.show()\n"
   ]
  },
  {
   "cell_type": "code",
   "execution_count": null,
   "metadata": {},
   "outputs": [],
   "source": [
    "\n",
    "print(f\"Correlation between daily sentiment and stock daily returns: {correlation}\")\n"
   ]
  },
  {
   "cell_type": "code",
   "execution_count": 52,
   "metadata": {},
   "outputs": [],
   "source": [
    "final_df.to_csv('merged_sentiment_stock_data.csv', index=False)\n"
   ]
  }
 ],
 "metadata": {
  "kernelspec": {
   "display_name": "Python 3",
   "language": "python",
   "name": "python3"
  },
  "language_info": {
   "codemirror_mode": {
    "name": "ipython",
    "version": 3
   },
   "file_extension": ".py",
   "mimetype": "text/x-python",
   "name": "python",
   "nbconvert_exporter": "python",
   "pygments_lexer": "ipython3",
   "version": "3.10.12"
  }
 },
 "nbformat": 4,
 "nbformat_minor": 2
}
